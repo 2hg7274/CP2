{
 "cells": [
  {
   "cell_type": "markdown",
   "metadata": {},
   "source": [
    "# 전처리1\n",
    "감정에 따른 사람-시스템 쌍으로 변경"
   ]
  },
  {
   "cell_type": "code",
   "execution_count": 1,
   "metadata": {},
   "outputs": [],
   "source": [
    "import pandas as pd\n",
    "import re\n",
    "import numpy as np\n"
   ]
  },
  {
   "cell_type": "code",
   "execution_count": 2,
   "metadata": {},
   "outputs": [],
   "source": [
    "def preprocess1(train_df, emotion):\n",
    "    PATH = '/Users/hanhyeongu/Desktop/CP2_NLP/Data/Training/'\n",
    "    # 사람문장1-시스템응답1\n",
    "    df1 = train_df[train_df['감정_대분류']==emotion][['사람문장1','시스템응답1']]\n",
    "    df1 = df1.reset_index(drop=True)\n",
    "    df1.columns = ['P', 'S']\n",
    "\n",
    "    # 사람문장2-시스테믕답2\n",
    "    df2 = train_df[train_df['감정_대분류']==emotion][['사람문장2', '시스템응답2']]\n",
    "    df2 = df2.reset_index(drop=True)\n",
    "    df2.columns = ['P', 'S']\n",
    "\n",
    "    # 사람문장3-시스템응답3\n",
    "    df3 = train_df[train_df['감정_대분류']==emotion][['사람문장3', '시스템응답3']]\n",
    "    df3 = df3.reset_index(drop=True)\n",
    "    df3.columns = ['P', 'S']\n",
    "\n",
    "    # 합차기\n",
    "    df = pd.concat([df1, df2, df3])\n",
    "    \n",
    "    # 결측값 행 삭제\n",
    "    df = df.dropna(axis=0)\n",
    "    df = df.reset_index(drop=True)\n",
    "    print(f\"{emotion} 데이터프레임의 shape\", df.shape, '\\n')\n",
    "    #df.to_csv(PATH+f'{emotion}_df.csv', index=False)\n",
    "\n",
    "\n",
    "    # 두 개 이상의 문장이 존재하는 행 구하기\n",
    "    two_P = []\n",
    "    two_S = []\n",
    "    for i in range(len(df)):\n",
    "        tmp = []\n",
    "        for cur in re.split('[.?!]', df.loc[i,'P']):\n",
    "            tmp.append(cur)\n",
    "        if len(tmp) > 2:\n",
    "            two_P.append(i)\n",
    "\n",
    "    for j in range(len(df)):\n",
    "        tmp = []\n",
    "        for cur in re.split('[.!?]', df.loc[j, 'S']):\n",
    "            tmp.append(cur)\n",
    "        if len(tmp) > 2:\n",
    "            two_S.append(j)\n",
    "\n",
    "    print(\"사람문장에서 두개 이상의 문장이 존해하는 행 개수: \", len(two_P))\n",
    "    print(\"시스템응답에서 두개 이상의 문장이 존해하는 행 개수: \", len(two_S), '\\n')\n",
    "\n",
    "    # two_P와 two_S의 합집합 \n",
    "    two = []\n",
    "    two.extend(two_P)\n",
    "    two.extend(two_S)\n",
    "    two = list(set(two))\n",
    "\n",
    "    print(\"사람-시스템에서 두 개 이상 문장이 존재하는 행 개수: \", len(two), '\\n')\n",
    "\n",
    "\n",
    "    # 두 개 이상 문장이 있는 행 삭제 후 데이터 프레임 저장\n",
    "    df2 = df.drop(two)\n",
    "    df2 = df2.reset_index(drop=True)\n",
    "    print(f\"최종 {emotion} 데이터 프레임의 형태: \", df2.shape)\n",
    "    if emotion=='기쁨':\n",
    "        df2.to_csv(PATH+'happy_df.csv', index=False)\n",
    "    elif emotion=='분노':\n",
    "        df2.to_csv(PATH+'angry_df.csv', index=False)\n",
    "    elif emotion== '당황':\n",
    "        df2.to_csv(PATH+'embarassment_df.csv', index=False)\n",
    "    elif emotion=='슬픔':\n",
    "        df2.to_csv(PATH+'sad_df.csv', index=False)\n",
    "\n",
    "    \n",
    "    return df2    "
   ]
  },
  {
   "cell_type": "code",
   "execution_count": 3,
   "metadata": {},
   "outputs": [],
   "source": [
    "train_df = pd.read_excel('/Users/hanhyeongu/Desktop/CP2_NLP/Data/Training/감성대화말뭉치(원시데이터)_Training.xlsx')"
   ]
  },
  {
   "cell_type": "code",
   "execution_count": 4,
   "metadata": {},
   "outputs": [
    {
     "name": "stdout",
     "output_type": "stream",
     "text": [
      "기쁨 데이터프레임의 shape (33173, 2) \n",
      "\n",
      "사람문장에서 두개 이상의 문장이 존해하는 행 개수:  9910\n",
      "시스템응답에서 두개 이상의 문장이 존해하는 행 개수:  8940 \n",
      "\n",
      "사람-시스템에서 두 개 이상 문장이 존재하는 행 개수:  15032 \n",
      "\n",
      "최종 기쁨 데이터 프레임의 형태:  (18141, 2)\n"
     ]
    }
   ],
   "source": [
    "happy_df = preprocess1(train_df, '기쁨')"
   ]
  },
  {
   "cell_type": "code",
   "execution_count": 5,
   "metadata": {},
   "outputs": [
    {
     "name": "stdout",
     "output_type": "stream",
     "text": [
      "분노 데이터프레임의 shape (33315, 2) \n",
      "\n",
      "사람문장에서 두개 이상의 문장이 존해하는 행 개수:  10122\n",
      "시스템응답에서 두개 이상의 문장이 존해하는 행 개수:  7786 \n",
      "\n",
      "사람-시스템에서 두 개 이상 문장이 존재하는 행 개수:  14496 \n",
      "\n",
      "최종 분노 데이터 프레임의 형태:  (18819, 2)\n"
     ]
    }
   ],
   "source": [
    "angry_df = preprocess1(train_df, '분노')"
   ]
  },
  {
   "cell_type": "code",
   "execution_count": 6,
   "metadata": {},
   "outputs": [
    {
     "name": "stdout",
     "output_type": "stream",
     "text": [
      "당황 데이터프레임의 shape (30293, 2) \n",
      "\n",
      "사람문장에서 두개 이상의 문장이 존해하는 행 개수:  8866\n",
      "시스템응답에서 두개 이상의 문장이 존해하는 행 개수:  7069 \n",
      "\n",
      "사람-시스템에서 두 개 이상 문장이 존재하는 행 개수:  13004 \n",
      "\n",
      "최종 당황 데이터 프레임의 형태:  (17289, 2)\n"
     ]
    }
   ],
   "source": [
    "emba_df = preprocess1(train_df, '당황')"
   ]
  },
  {
   "cell_type": "code",
   "execution_count": 7,
   "metadata": {},
   "outputs": [
    {
     "name": "stdout",
     "output_type": "stream",
     "text": [
      "슬픔 데이터프레임의 shape (33870, 2) \n",
      "\n",
      "사람문장에서 두개 이상의 문장이 존해하는 행 개수:  10126\n",
      "시스템응답에서 두개 이상의 문장이 존해하는 행 개수:  8537 \n",
      "\n",
      "사람-시스템에서 두 개 이상 문장이 존재하는 행 개수:  15018 \n",
      "\n",
      "최종 슬픔 데이터 프레임의 형태:  (18852, 2)\n"
     ]
    }
   ],
   "source": [
    "sad_df = preprocess1(train_df, '슬픔')"
   ]
  },
  {
   "cell_type": "code",
   "execution_count": 9,
   "metadata": {},
   "outputs": [
    {
     "name": "stdout",
     "output_type": "stream",
     "text": [
      "최종 중립 데이터 프레임의 형태 :  (73101, 2)\n"
     ]
    }
   ],
   "source": [
    "neutrality_df = pd.concat([happy_df, sad_df, emba_df, angry_df])\n",
    "neutrality_df.to_csv('/Users/hanhyeongu/Desktop/CP2_NLP/Data/Training/neutrality_df.csv')\n",
    "print('최종 중립 데이터 프레임의 형태 : ', neutrality_df.shape)"
   ]
  },
  {
   "cell_type": "code",
   "execution_count": null,
   "metadata": {},
   "outputs": [],
   "source": []
  }
 ],
 "metadata": {
  "kernelspec": {
   "display_name": "Python 3.8.13 ('CP2')",
   "language": "python",
   "name": "python3"
  },
  "language_info": {
   "codemirror_mode": {
    "name": "ipython",
    "version": 3
   },
   "file_extension": ".py",
   "mimetype": "text/x-python",
   "name": "python",
   "nbconvert_exporter": "python",
   "pygments_lexer": "ipython3",
   "version": "3.8.13"
  },
  "orig_nbformat": 4,
  "vscode": {
   "interpreter": {
    "hash": "6702ce4240c75ecd8bd896f3fa971eab0a1b60ecbcb905e623b6b9f6b24bf747"
   }
  }
 },
 "nbformat": 4,
 "nbformat_minor": 2
}
